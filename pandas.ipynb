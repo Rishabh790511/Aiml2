{
 "cells": [
  {
   "cell_type": "code",
   "execution_count": 2,
   "id": "ffcfe1bc",
   "metadata": {
    "tags": []
   },
   "outputs": [
    {
     "name": "stdout",
     "output_type": "stream",
     "text": [
      "1. [5 5 5 5 5 5 5 5 5 5]\n",
      "2. [10 11 12 13 14 15 16 17 18 19 20 21 22 23 24 25 26 27 28 29 30 31 32 33\n",
      " 34 35 36 37 38 39 40 41 42 43 44 45 46 47 48 49 50]\n",
      "3. [10 12 14 16 18 20 22 24 26 28 30 32 34 36 38 40 42 44 46 48 50]\n",
      "4. [[0 1 2]\n",
      " [3 4 5]\n",
      " [6 7 8]]\n",
      "5. [ 0.64572938 -0.23265983 -0.00270732  1.10506907 -0.93430718  0.66756412\n",
      " -0.49039008 -0.16336412  1.19699582 -1.53459873  0.23820423  0.481367\n",
      " -1.38831159  1.53145826  0.23195172 -0.96940811  0.63348314 -0.02338996\n",
      " -0.61385886 -0.52398839  0.28218331 -0.21472443 -0.08857162  0.47295259\n",
      "  1.04232936]\n",
      "6. [0.   0.01 0.02 0.03 0.04 0.05 0.06 0.07 0.08 0.09 0.1  0.11 0.12 0.13\n",
      " 0.14 0.15 0.16 0.17 0.18 0.19 0.2  0.21 0.22 0.23 0.24 0.25 0.26 0.27\n",
      " 0.28 0.29 0.3  0.31 0.32 0.33 0.34 0.35 0.36 0.37 0.38 0.39 0.4  0.41\n",
      " 0.42 0.43 0.44 0.45 0.46 0.47 0.48 0.49 0.5  0.51 0.52 0.53 0.54 0.55\n",
      " 0.56 0.57 0.58 0.59 0.6  0.61 0.62 0.63 0.64 0.65 0.66 0.67 0.68 0.69\n",
      " 0.7  0.71 0.72 0.73 0.74 0.75 0.76 0.77 0.78 0.79 0.8  0.81 0.82 0.83\n",
      " 0.84 0.85 0.86 0.87 0.88 0.89 0.9  0.91 0.92 0.93 0.94 0.95 0.96 0.97\n",
      " 0.98 0.99 1.  ]\n",
      "7. [0.         0.05263158 0.10526316 0.15789474 0.21052632 0.26315789\n",
      " 0.31578947 0.36842105 0.42105263 0.47368421 0.52631579 0.57894737\n",
      " 0.63157895 0.68421053 0.73684211 0.78947368 0.84210526 0.89473684\n",
      " 0.94736842 1.        ]\n",
      "8.\n",
      "[[ 1  2  3  4  5]\n",
      " [ 6  7  8  9 10]\n",
      " [11 12 13 14 15]\n",
      " [16 17 18 19 20]\n",
      " [21 22 23 24 25]]\n",
      "Extract 1:\n",
      " [[ 7  8  9 10]\n",
      " [12 13 14 15]\n",
      " [17 18 19 20]]\n",
      "Extract 2:\n",
      " [[ 7]\n",
      " [12]\n",
      " [17]]\n",
      "Sum of all values in mat: 325\n",
      "Sum of rows in mat: [ 15  40  65  90 115]\n",
      "Sum of columns in mat: [55 60 65 70 75]\n"
     ]
    }
   ],
   "source": [
    "import numpy as np\n",
    "\n",
    "# 1. Create an array of 10 fives\n",
    "array1 = np.full(10, 5)\n",
    "print(\"1.\", array1)\n",
    "\n",
    "# 2. Create an array of the integers from 10 to 50\n",
    "array2 = np.arange(10, 51)\n",
    "print(\"2.\", array2)\n",
    "\n",
    "# 3. Create an array of all the even integers from 10 to 50\n",
    "array3 = np.arange(10, 51, 2)\n",
    "print(\"3.\", array3)\n",
    "\n",
    "# 4. Create a 3x3 matrix with values ranging from 0 to 8\n",
    "array4 = np.arange(9).reshape(3, 3)\n",
    "print(\"4.\", array4)\n",
    "\n",
    "# 5. Use NumPy to generate an array of 25 random numbers sampled from a standard normal distribution\n",
    "array5 = np.random.randn(25)\n",
    "print(\"5.\", array5)\n",
    "\n",
    "# 6. Create a specific array\n",
    "array6 = np.arange(0, 1.01, 0.01)\n",
    "print(\"6.\", array6)\n",
    "\n",
    "# 7. Create an array of 20 linearly spaced points between 0 and 1\n",
    "array7 = np.linspace(0, 1, 20)\n",
    "print(\"7.\", array7)\n",
    "\n",
    "# 8. Generate the given matrix mat\n",
    "mat = np.arange(1, 26).reshape(5, 5)\n",
    "print(\"8.\")\n",
    "print(mat)\n",
    "\n",
    "# Extracting specific portions using indexing and slicing\n",
    "extract1 = mat[1:4, 1:5]\n",
    "print(\"Extract 1:\\n\", extract1)\n",
    "\n",
    "extract2 = mat[[1, 2, 3], [1]]\n",
    "print(\"Extract 2:\\n\", extract2.reshape(-1, 1))\n",
    "\n",
    "# Get the sum of all the values in mat\n",
    "print(\"Sum of all values in mat:\", np.sum(mat))\n",
    "\n",
    "# Get the sum of all the rows and columns in mat\n",
    "row_sums = np.sum(mat, axis=1)\n",
    "print(\"Sum of rows in mat:\", row_sums)\n",
    "\n",
    "col_sums = np.sum(mat, axis=0)\n",
    "print(\"Sum of columns in mat:\", col_sums)\n"
   ]
  },
  {
   "cell_type": "code",
   "execution_count": 4,
   "id": "7efd878a-75fd-476d-968d-881271b884fb",
   "metadata": {},
   "outputs": [
    {
     "name": "stdout",
     "output_type": "stream",
     "text": [
      "0    1\n",
      "1    2\n",
      "2    3\n",
      "3    4\n",
      "4    5\n",
      "dtype: int64\n"
     ]
    }
   ],
   "source": []
  },
  {
   "cell_type": "code",
   "execution_count": 7,
   "id": "1d58389f-e299-44b3-b647-b118ec17a6e6",
   "metadata": {
    "tags": []
   },
   "outputs": [
    {
     "name": "stdout",
     "output_type": "stream",
     "text": [
      "[5 5 5 5 5 5 5 5 5 5]\n"
     ]
    }
   ],
   "source": [
    "array1 = np.full(10, 5)\n",
    "print(array1)"
   ]
  },
  {
   "cell_type": "code",
   "execution_count": 8,
   "id": "433b9050-0893-4935-abc6-b1f79f8161b7",
   "metadata": {
    "tags": []
   },
   "outputs": [],
   "source": [
    "l=[1,2,4,3,6,3,5,9]"
   ]
  },
  {
   "cell_type": "code",
   "execution_count": 13,
   "id": "f2313fa9-472d-44b0-a6ca-12da1171ef96",
   "metadata": {
    "tags": []
   },
   "outputs": [],
   "source": [
    "ar=np.array(l)"
   ]
  },
  {
   "cell_type": "code",
   "execution_count": 11,
   "id": "5c35d986-a625-438e-84e1-720a24a0fa5c",
   "metadata": {
    "tags": []
   },
   "outputs": [
    {
     "data": {
      "text/plain": [
       "numpy.ndarray"
      ]
     },
     "execution_count": 11,
     "metadata": {},
     "output_type": "execute_result"
    }
   ],
   "source": [
    "type(ar)"
   ]
  },
  {
   "cell_type": "code",
   "execution_count": 15,
   "id": "a040ac5a-a166-4d1a-93f7-c12f5498ab06",
   "metadata": {
    "tags": []
   },
   "outputs": [
    {
     "data": {
      "text/plain": [
       "array([1, 2, 4, 3, 6, 3, 5, 9])"
      ]
     },
     "execution_count": 15,
     "metadata": {},
     "output_type": "execute_result"
    }
   ],
   "source": [
    "np.asarray(l)"
   ]
  },
  {
   "cell_type": "code",
   "execution_count": 14,
   "id": "0290298c-b185-404b-b344-8ff0bd514c65",
   "metadata": {
    "tags": []
   },
   "outputs": [
    {
     "data": {
      "text/plain": [
       "array([1, 2, 4, 3, 6, 3, 5, 9])"
      ]
     },
     "execution_count": 14,
     "metadata": {},
     "output_type": "execute_result"
    }
   ],
   "source": [
    "ar"
   ]
  },
  {
   "cell_type": "code",
   "execution_count": 22,
   "id": "82c23223-85db-41e8-84e3-a89888dea375",
   "metadata": {
    "tags": []
   },
   "outputs": [
    {
     "name": "stdout",
     "output_type": "stream",
     "text": [
      "2. [5 5 5 5 5 5 5 5 5 5]\n"
     ]
    }
   ],
   "source": [
    "a=np.full(10,5)\n",
    "print('2.',a)"
   ]
  },
  {
   "cell_type": "code",
   "execution_count": 26,
   "id": "2c7706b4-4733-4faf-9b31-09ca5b427c6f",
   "metadata": {
    "tags": []
   },
   "outputs": [
    {
     "data": {
      "text/plain": [
       "array([10, 11, 12, 13, 14, 15, 16, 17, 18, 19, 20, 21, 22, 23, 24, 25, 26,\n",
       "       27, 28, 29, 30, 31, 32, 33, 34, 35, 36, 37, 38, 39, 40, 41, 42, 43,\n",
       "       44, 45, 46, 47, 48, 49, 50])"
      ]
     },
     "execution_count": 26,
     "metadata": {},
     "output_type": "execute_result"
    }
   ],
   "source": [
    "np.arange(10,51)"
   ]
  },
  {
   "cell_type": "code",
   "execution_count": 27,
   "id": "b76f20a1-2a6c-40b2-9776-2e511d04add1",
   "metadata": {
    "tags": []
   },
   "outputs": [
    {
     "data": {
      "text/plain": [
       "matrix([[1, 2, 4, 3, 6, 3, 5, 9]])"
      ]
     },
     "execution_count": 27,
     "metadata": {},
     "output_type": "execute_result"
    }
   ],
   "source": [
    "np.matrix(l)"
   ]
  },
  {
   "cell_type": "code",
   "execution_count": 28,
   "id": "f265064a-7266-42d5-b3d3-f3bfe6ffbc38",
   "metadata": {
    "tags": []
   },
   "outputs": [
    {
     "data": {
      "text/plain": [
       "1"
      ]
     },
     "execution_count": 28,
     "metadata": {},
     "output_type": "execute_result"
    }
   ],
   "source": [
    "ar.ndim"
   ]
  },
  {
   "cell_type": "code",
   "execution_count": 30,
   "id": "22118cf5-8aeb-4bd8-afe4-f3443631f233",
   "metadata": {
    "tags": []
   },
   "outputs": [
    {
     "data": {
      "text/plain": [
       "8"
      ]
     },
     "execution_count": 30,
     "metadata": {},
     "output_type": "execute_result"
    }
   ],
   "source": [
    "ar.size"
   ]
  },
  {
   "cell_type": "code",
   "execution_count": 32,
   "id": "63825be0-2126-4ae9-ad0a-6d38e54603fb",
   "metadata": {
    "tags": []
   },
   "outputs": [
    {
     "name": "stdout",
     "output_type": "stream",
     "text": [
      "[[ 1  2  3  4  5]\n",
      " [ 6  7  8  9 10]\n",
      " [11 12 13 14 15]\n",
      " [16 17 18 19 20]\n",
      " [21 22 23 24 25]]\n"
     ]
    }
   ],
   "source": [
    "mat = np.arange(1, 26).reshape(5, 5)\n",
    "print(mat)"
   ]
  },
  {
   "cell_type": "code",
   "execution_count": 33,
   "id": "9ebbe785-1355-4afe-b095-3655b7cbd28a",
   "metadata": {
    "tags": []
   },
   "outputs": [
    {
     "data": {
      "text/plain": [
       "numpy.ndarray"
      ]
     },
     "execution_count": 33,
     "metadata": {},
     "output_type": "execute_result"
    }
   ],
   "source": [
    "type(mat)"
   ]
  },
  {
   "cell_type": "code",
   "execution_count": 2,
   "id": "2b96a61f-4de2-4a9f-b1ab-bb7aa3a85d5e",
   "metadata": {},
   "outputs": [],
   "source": [
    "import numpy as np\n",
    "arr = np.random.randn(3,4)"
   ]
  },
  {
   "cell_type": "code",
   "execution_count": 4,
   "id": "e08dfb6a-8b5c-45ca-a8c8-bd69364a4ff6",
   "metadata": {
    "tags": []
   },
   "outputs": [
    {
     "data": {
      "text/plain": [
       "numpy.ndarray"
      ]
     },
     "execution_count": 4,
     "metadata": {},
     "output_type": "execute_result"
    }
   ],
   "source": [
    "type(arr)"
   ]
  },
  {
   "cell_type": "code",
   "execution_count": 6,
   "id": "a4e2927c-d627-4625-a21e-28ec422fc379",
   "metadata": {
    "tags": []
   },
   "outputs": [
    {
     "name": "stdout",
     "output_type": "stream",
     "text": [
      "8.\n",
      "[[ 1  2  3  4  5]\n",
      " [ 6  7  8  9 10]\n",
      " [11 12 13 14 15]\n",
      " [16 17 18 19 20]\n",
      " [21 22 23 24 25]]\n"
     ]
    }
   ],
   "source": [
    "mat = np.arange(1, 26).reshape(5, 5)\n",
    "print(\"8.\")\n",
    "print(mat)\n"
   ]
  },
  {
   "cell_type": "code",
   "execution_count": 7,
   "id": "aa05b929-653a-4f73-ae12-1042425071ed",
   "metadata": {
    "tags": []
   },
   "outputs": [],
   "source": [
    "extract1 = mat[1:4, 1:5]"
   ]
  },
  {
   "cell_type": "code",
   "execution_count": 9,
   "id": "8ba4527b-80c1-4761-96df-5282c6954529",
   "metadata": {
    "tags": []
   },
   "outputs": [
    {
     "data": {
      "text/plain": [
       "array([[ 7,  8,  9, 10],\n",
       "       [12, 13, 14, 15],\n",
       "       [17, 18, 19, 20]])"
      ]
     },
     "execution_count": 9,
     "metadata": {},
     "output_type": "execute_result"
    }
   ],
   "source": [
    "extract1"
   ]
  },
  {
   "cell_type": "code",
   "execution_count": null,
   "id": "03c21b7d-2a17-4e34-b66c-e67ae8830d91",
   "metadata": {},
   "outputs": [],
   "source": []
  }
 ],
 "metadata": {
  "kernelspec": {
   "display_name": "Python 3 (ipykernel)",
   "language": "python",
   "name": "python3"
  },
  "language_info": {
   "codemirror_mode": {
    "name": "ipython",
    "version": 3
   },
   "file_extension": ".py",
   "mimetype": "text/x-python",
   "name": "python",
   "nbconvert_exporter": "python",
   "pygments_lexer": "ipython3",
   "version": "3.11.5"
  }
 },
 "nbformat": 4,
 "nbformat_minor": 5
}
